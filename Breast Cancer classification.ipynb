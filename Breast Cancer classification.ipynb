{
 "cells": [
  {
   "cell_type": "markdown",
   "id": "99d26dd8",
   "metadata": {},
   "source": [
    "# 1) Classification Experiment :"
   ]
  },
  {
   "cell_type": "code",
   "execution_count": 1,
   "id": "dbbc1def",
   "metadata": {},
   "outputs": [],
   "source": [
    "import numpy as np\n",
    "import pandas as pd\n",
    "import matplotlib.pyplot as plt\n",
    "from sklearn.preprocessing import StandardScaler\n",
    "from sklearn.model_selection import train_test_split\n",
    "from sklearn.linear_model import LogisticRegression\n",
    "from sklearn.metrics import confusion_matrix\n",
    "from sklearn.neighbors import KNeighborsClassifier\n",
    "from sklearn.discriminant_analysis import LinearDiscriminantAnalysis\n",
    "from sklearn.svm import SVC\n",
    "from sklearn.tree import DecisionTreeClassifier\n",
    "from sklearn import tree\n",
    "import graphviz\n",
    "from sklearn.ensemble import AdaBoostClassifier\n",
    "from xgboost import XGBClassifier\n",
    "from sklearn.ensemble import RandomForestClassifier"
   ]
  },
  {
   "cell_type": "code",
   "execution_count": 2,
   "id": "e26d51b0",
   "metadata": {},
   "outputs": [
    {
     "data": {
      "text/html": [
       "<div>\n",
       "<style scoped>\n",
       "    .dataframe tbody tr th:only-of-type {\n",
       "        vertical-align: middle;\n",
       "    }\n",
       "\n",
       "    .dataframe tbody tr th {\n",
       "        vertical-align: top;\n",
       "    }\n",
       "\n",
       "    .dataframe thead th {\n",
       "        text-align: right;\n",
       "    }\n",
       "</style>\n",
       "<table border=\"1\" class=\"dataframe\">\n",
       "  <thead>\n",
       "    <tr style=\"text-align: right;\">\n",
       "      <th></th>\n",
       "      <th>0</th>\n",
       "      <th>1</th>\n",
       "      <th>2</th>\n",
       "      <th>3</th>\n",
       "      <th>4</th>\n",
       "      <th>5</th>\n",
       "      <th>6</th>\n",
       "      <th>7</th>\n",
       "      <th>8</th>\n",
       "      <th>9</th>\n",
       "      <th>10</th>\n",
       "    </tr>\n",
       "  </thead>\n",
       "  <tbody>\n",
       "    <tr>\n",
       "      <th>0</th>\n",
       "      <td>1000025</td>\n",
       "      <td>5</td>\n",
       "      <td>1</td>\n",
       "      <td>1</td>\n",
       "      <td>1</td>\n",
       "      <td>2</td>\n",
       "      <td>1</td>\n",
       "      <td>3</td>\n",
       "      <td>1</td>\n",
       "      <td>1</td>\n",
       "      <td>2</td>\n",
       "    </tr>\n",
       "    <tr>\n",
       "      <th>1</th>\n",
       "      <td>1002945</td>\n",
       "      <td>5</td>\n",
       "      <td>4</td>\n",
       "      <td>4</td>\n",
       "      <td>5</td>\n",
       "      <td>7</td>\n",
       "      <td>10</td>\n",
       "      <td>3</td>\n",
       "      <td>2</td>\n",
       "      <td>1</td>\n",
       "      <td>2</td>\n",
       "    </tr>\n",
       "    <tr>\n",
       "      <th>2</th>\n",
       "      <td>1015425</td>\n",
       "      <td>3</td>\n",
       "      <td>1</td>\n",
       "      <td>1</td>\n",
       "      <td>1</td>\n",
       "      <td>2</td>\n",
       "      <td>2</td>\n",
       "      <td>3</td>\n",
       "      <td>1</td>\n",
       "      <td>1</td>\n",
       "      <td>2</td>\n",
       "    </tr>\n",
       "    <tr>\n",
       "      <th>3</th>\n",
       "      <td>1016277</td>\n",
       "      <td>6</td>\n",
       "      <td>8</td>\n",
       "      <td>8</td>\n",
       "      <td>1</td>\n",
       "      <td>3</td>\n",
       "      <td>4</td>\n",
       "      <td>3</td>\n",
       "      <td>7</td>\n",
       "      <td>1</td>\n",
       "      <td>2</td>\n",
       "    </tr>\n",
       "    <tr>\n",
       "      <th>4</th>\n",
       "      <td>1017023</td>\n",
       "      <td>4</td>\n",
       "      <td>1</td>\n",
       "      <td>1</td>\n",
       "      <td>3</td>\n",
       "      <td>2</td>\n",
       "      <td>1</td>\n",
       "      <td>3</td>\n",
       "      <td>1</td>\n",
       "      <td>1</td>\n",
       "      <td>2</td>\n",
       "    </tr>\n",
       "    <tr>\n",
       "      <th>...</th>\n",
       "      <td>...</td>\n",
       "      <td>...</td>\n",
       "      <td>...</td>\n",
       "      <td>...</td>\n",
       "      <td>...</td>\n",
       "      <td>...</td>\n",
       "      <td>...</td>\n",
       "      <td>...</td>\n",
       "      <td>...</td>\n",
       "      <td>...</td>\n",
       "      <td>...</td>\n",
       "    </tr>\n",
       "    <tr>\n",
       "      <th>678</th>\n",
       "      <td>776715</td>\n",
       "      <td>3</td>\n",
       "      <td>1</td>\n",
       "      <td>1</td>\n",
       "      <td>1</td>\n",
       "      <td>3</td>\n",
       "      <td>2</td>\n",
       "      <td>1</td>\n",
       "      <td>1</td>\n",
       "      <td>1</td>\n",
       "      <td>2</td>\n",
       "    </tr>\n",
       "    <tr>\n",
       "      <th>679</th>\n",
       "      <td>841769</td>\n",
       "      <td>2</td>\n",
       "      <td>1</td>\n",
       "      <td>1</td>\n",
       "      <td>1</td>\n",
       "      <td>2</td>\n",
       "      <td>1</td>\n",
       "      <td>1</td>\n",
       "      <td>1</td>\n",
       "      <td>1</td>\n",
       "      <td>2</td>\n",
       "    </tr>\n",
       "    <tr>\n",
       "      <th>680</th>\n",
       "      <td>888820</td>\n",
       "      <td>5</td>\n",
       "      <td>10</td>\n",
       "      <td>10</td>\n",
       "      <td>3</td>\n",
       "      <td>7</td>\n",
       "      <td>3</td>\n",
       "      <td>8</td>\n",
       "      <td>10</td>\n",
       "      <td>2</td>\n",
       "      <td>4</td>\n",
       "    </tr>\n",
       "    <tr>\n",
       "      <th>681</th>\n",
       "      <td>897471</td>\n",
       "      <td>4</td>\n",
       "      <td>8</td>\n",
       "      <td>6</td>\n",
       "      <td>4</td>\n",
       "      <td>3</td>\n",
       "      <td>4</td>\n",
       "      <td>10</td>\n",
       "      <td>6</td>\n",
       "      <td>1</td>\n",
       "      <td>4</td>\n",
       "    </tr>\n",
       "    <tr>\n",
       "      <th>682</th>\n",
       "      <td>897471</td>\n",
       "      <td>4</td>\n",
       "      <td>8</td>\n",
       "      <td>8</td>\n",
       "      <td>5</td>\n",
       "      <td>4</td>\n",
       "      <td>5</td>\n",
       "      <td>10</td>\n",
       "      <td>4</td>\n",
       "      <td>1</td>\n",
       "      <td>4</td>\n",
       "    </tr>\n",
       "  </tbody>\n",
       "</table>\n",
       "<p>683 rows × 11 columns</p>\n",
       "</div>"
      ],
      "text/plain": [
       "          0   1   2   3   4   5   6   7   8   9   10\n",
       "0    1000025   5   1   1   1   2   1   3   1   1   2\n",
       "1    1002945   5   4   4   5   7  10   3   2   1   2\n",
       "2    1015425   3   1   1   1   2   2   3   1   1   2\n",
       "3    1016277   6   8   8   1   3   4   3   7   1   2\n",
       "4    1017023   4   1   1   3   2   1   3   1   1   2\n",
       "..       ...  ..  ..  ..  ..  ..  ..  ..  ..  ..  ..\n",
       "678   776715   3   1   1   1   3   2   1   1   1   2\n",
       "679   841769   2   1   1   1   2   1   1   1   1   2\n",
       "680   888820   5  10  10   3   7   3   8  10   2   4\n",
       "681   897471   4   8   6   4   3   4  10   6   1   4\n",
       "682   897471   4   8   8   5   4   5  10   4   1   4\n",
       "\n",
       "[683 rows x 11 columns]"
      ]
     },
     "execution_count": 2,
     "metadata": {},
     "output_type": "execute_result"
    }
   ],
   "source": [
    "df = pd.read_csv(\"C:\\\\Users\\\\pavan\\\\Downloads\\\\breast-cancer-wisconsin.csv\",header= None)\n",
    "df\n"
   ]
  },
  {
   "cell_type": "markdown",
   "id": "0a28d5fd",
   "metadata": {},
   "source": [
    " # Question 1)a"
   ]
  },
  {
   "cell_type": "code",
   "execution_count": 3,
   "id": "ee29292d",
   "metadata": {},
   "outputs": [
    {
     "data": {
      "text/plain": [
       "array([[214,   2],\n",
       "       [  1,  66]], dtype=int64)"
      ]
     },
     "execution_count": 3,
     "metadata": {},
     "output_type": "execute_result"
    }
   ],
   "source": [
    "X =df.iloc[:,1:10].values\n",
    "Y=df.iloc[:,10] # target column\n",
    "Y = pd.factorize(Y)[0]\n",
    "X_train,X_test,Y_train,Y_test = train_test_split(X, Y, train_size=400,shuffle= False)\n",
    "log_reg = LogisticRegression()\n",
    "log_reg.fit(X_train, Y_train)\n",
    "Y_predict = log_reg.predict(X_test)\n",
    "cm = confusion_matrix(Y_test,Y_predict)\n",
    "cm"
   ]
  },
  {
   "cell_type": "code",
   "execution_count": 5,
   "id": "9bec5234",
   "metadata": {},
   "outputs": [
    {
     "name": "stdout",
     "output_type": "stream",
     "text": [
      "Misclassification_rate is 0.01060070671378092\n",
      "RMS margin is  0.4893992932862191\n"
     ]
    }
   ],
   "source": [
    "# missclassification rate = misclassified test instance/ all test instances \n",
    "misclassification_rate = (cm[0,1]+cm[1,0])/cm.sum() \n",
    "print(\"Misclassification_rate is\",misclassification_rate)\n",
    "prob_correct = (cm[0,0]+cm[1,1])/cm.sum()\n",
    "rms_margin = np.sqrt(np.mean(prob_correct - 0.5)**2)\n",
    "print(\"RMS margin is \",rms_margin)"
   ]
  },
  {
   "cell_type": "markdown",
   "id": "08715b7a",
   "metadata": {},
   "source": [
    "# 1)b "
   ]
  },
  {
   "cell_type": "code",
   "execution_count": 6,
   "id": "8f654d77",
   "metadata": {},
   "outputs": [
    {
     "name": "stdout",
     "output_type": "stream",
     "text": [
      "misclassification Rate using kNN clasifier with neighbor 1 is 0.0176678445229682\n",
      "misclassification Rate using kNN clasifier with neighbor 2 is 0.028268551236749116\n",
      "misclassification Rate using kNN clasifier with neighbor 3 is 0.014134275618374558\n",
      "misclassification Rate using kNN clasifier with neighbor 4 is 0.0176678445229682\n",
      "misclassification Rate using kNN clasifier with neighbor 5 is 0.0176678445229682\n",
      "misclassification Rate using kNN clasifier with neighbor 6 is 0.01060070671378092\n",
      "misclassification Rate using kNN clasifier with neighbor 7 is 0.014134275618374558\n",
      "misclassification Rate using kNN clasifier with neighbor 8 is 0.01060070671378092\n",
      "misclassification Rate using kNN clasifier with neighbor 9 is 0.01060070671378092\n",
      "misclassification Rate using kNN clasifier with neighbor 10 is 0.01060070671378092\n"
     ]
    },
    {
     "data": {
      "text/plain": [
       "Text(0, 0.5, 'misclassification Rate in kNN')"
      ]
     },
     "execution_count": 6,
     "metadata": {},
     "output_type": "execute_result"
    },
    {
     "data": {
      "image/png": "[encoded data removed]",
      "text/plain": [
       "<Figure size 720x432 with 1 Axes>"
      ]
     },
     "metadata": {
      "needs_background": "light"
     },
     "output_type": "display_data"
    }
   ],
   "source": [
    "misclassification_rate=[]\n",
    "for i in range(10):\n",
    "    knn_c = KNeighborsClassifier(n_neighbors=i+1)\n",
    "    knn_c.fit(X_train,Y_train)\n",
    "    y_pred_kncc_i = knn_c.predict(X_test)\n",
    "    print (\"misclassification Rate using kNN clasifier with neighbor\",i+1,\"is\",  np.mean(y_pred_kncc_i!=Y_test))\n",
    "    misclassification_rate.append(np.mean(y_pred_kncc_i!= Y_test))\n",
    "    cm_knn = confusion_matrix(Y_test,y_pred_kncc_i)\n",
    "plt.figure(figsize=(10,6))\n",
    "plt.plot(range(1,11),misclassification_rate, color='orange', marker='d', markersize=10) \n",
    "plt.title('misclassification Rate in kNN classifier    Vs    nearest Neighbors for K= 1 to 10')\n",
    "plt.xlabel('Nearest neighbors from k=1 to 10 ')\n",
    "plt.ylabel('misclassification Rate in kNN')"
   ]
  },
  {
   "cell_type": "markdown",
   "id": "c52da0ae",
   "metadata": {},
   "source": [
    "# 1)c"
   ]
  },
  {
   "cell_type": "code",
   "execution_count": 7,
   "id": "b49eb854",
   "metadata": {},
   "outputs": [
    {
     "name": "stdout",
     "output_type": "stream",
     "text": [
      "misclassification_rate in LDA is 0.0176678445229682\n"
     ]
    },
    {
     "data": {
      "text/plain": [
       "array([[215,   1],\n",
       "       [  4,  63]], dtype=int64)"
      ]
     },
     "execution_count": 7,
     "metadata": {},
     "output_type": "execute_result"
    }
   ],
   "source": [
    "lda =LinearDiscriminantAnalysis()\n",
    "lda.fit(X_train,Y_train)\n",
    "y_pred_lda = lda.predict(X_test)\n",
    "cm_1 = confusion_matrix(Y_test, y_pred_lda)\n",
    "print('misclassification_rate in LDA is', np.mean(y_pred_lda!= Y_test))\n",
    "cm_1"
   ]
  },
  {
   "cell_type": "markdown",
   "id": "0c55465a",
   "metadata": {},
   "source": [
    "# 1)d"
   ]
  },
  {
   "cell_type": "code",
   "execution_count": 8,
   "id": "2209d4c8",
   "metadata": {},
   "outputs": [],
   "source": [
    "# svm with linear kernel"
   ]
  },
  {
   "cell_type": "code",
   "execution_count": 9,
   "id": "814949d1",
   "metadata": {},
   "outputs": [
    {
     "name": "stdout",
     "output_type": "stream",
     "text": [
      "misclassification rate in svm for linear kernel is 0.014134275618374558\n",
      "RMS margin for svm is 0.48586572438162545\n"
     ]
    }
   ],
   "source": [
    "linear_svm = SVC(kernel='linear', probability=True)\n",
    "linear_svm.fit(X_train, Y_train)\n",
    "y_pred_linear = linear_svm.predict(X_test)\n",
    "print(\"misclassification rate in svm for linear kernel is\", np.mean(y_pred_linear!=Y_test))\n",
    "cm1 = confusion_matrix(Y_test,y_pred_linear)\n",
    "prob_correct_1 = (cm1[0,0]+cm1[1,1])/cm1.sum()\n",
    "rms_margin_1 = np.sqrt(np.mean(prob_correct_1 - 0.5)**2)\n",
    "print(\"RMS margin for svm is\",rms_margin_1)\n"
   ]
  },
  {
   "cell_type": "code",
   "execution_count": 7,
   "id": "3025214e",
   "metadata": {},
   "outputs": [],
   "source": [
    "# svm with poly kernel for degrees 2 to 5"
   ]
  },
  {
   "cell_type": "code",
   "execution_count": 8,
   "id": "e587d393",
   "metadata": {},
   "outputs": [
    {
     "name": "stdout",
     "output_type": "stream",
     "text": [
      "misclassification rate in svm for poly kernel with degree 2 is 0.01060070671378092\n",
      "RMS margin for svm with degree 2 is 0.4893992932862191\n",
      "misclassification rate in svm for poly kernel with degree 3 is 0.01060070671378092\n",
      "RMS margin for svm with degree 3 is 0.4893992932862191\n",
      "misclassification rate in svm for poly kernel  with degree 4 is 0.0353356890459364\n",
      "RMS margin for svm with degree 4 is 0.4646643109540636\n",
      "misclassification rate in svm for poly kernel with degree 5 is 0.0353356890459364\n",
      "RMS margin for svm with degree 5 is 0.4646643109540636\n"
     ]
    }
   ],
   "source": [
    "poly_svm = SVC(kernel=\"poly\",degree=2,probability= True)\n",
    "poly_svm.fit(X_train, Y_train)\n",
    "y_pred_poly = poly_svm.predict(X_test)\n",
    "print(\"misclassification rate in svm for poly kernel with degree 2 is\", np.mean(y_pred_poly!=Y_test))\n",
    "cm2 = confusion_matrix(Y_test,y_pred_poly)\n",
    "prob_correct_2 = (cm2[0,0]+cm2[1,1])/cm2.sum()\n",
    "rms_margin_2 = np.sqrt(np.mean(prob_correct_2 - 0.5)**2)\n",
    "print(\"RMS margin for svm with degree 2 is\",rms_margin_2)\n",
    "\n",
    "poly_svm_a = SVC(kernel=\"poly\", degree=3,probability= True)\n",
    "poly_svm_a.fit(X_train, Y_train)\n",
    "y_pred_poly_1= poly_svm_a.predict(X_test)\n",
    "print(\"misclassification rate in svm for poly kernel with degree 3 is\", np.mean(y_pred_poly_1!=Y_test))\n",
    "cm2_1 = confusion_matrix(Y_test,y_pred_poly_1)\n",
    "prob_correct_2_1 = (cm2_1[0,0]+cm2_1[1,1])/cm2_1.sum()\n",
    "rms_margin_2_1 = np.sqrt(np.mean(prob_correct_2_1 - 0.5)**2)\n",
    "print(\"RMS margin for svm with degree 3 is\",rms_margin_2_1)\n",
    "\n",
    "poly_svm_b = SVC(kernel=\"poly\", degree=4,probability= True)\n",
    "poly_svm_b.fit(X_train, Y_train)\n",
    "y_pred_poly_2= poly_svm_b.predict(X_test)\n",
    "print(\"misclassification rate in svm for poly kernel  with degree 4 is\", np.mean(y_pred_poly_2!=Y_test))\n",
    "cm2_2 = confusion_matrix(Y_test,y_pred_poly_2)\n",
    "prob_correct_2_2 = (cm2_2[0,0]+cm2_2[1,1])/cm2_2.sum()\n",
    "rms_margin_2_2 = np.sqrt(np.mean(prob_correct_2_2 - 0.5)**2)\n",
    "print(\"RMS margin for svm with degree 4 is\",rms_margin_2_2)\n",
    "\n",
    "poly_svm_c = SVC(kernel=\"poly\", degree=5,probability= True)\n",
    "poly_svm_c.fit(X_train, Y_train)\n",
    "y_pred_poly_3= poly_svm_c.predict(X_test)\n",
    "print(\"misclassification rate in svm for poly kernel with degree 5 is\", np.mean(y_pred_poly_3!=Y_test))\n",
    "cm2_3 = confusion_matrix(Y_test,y_pred_poly_3)\n",
    "prob_correct_2_3 = (cm2_3[0,0]+cm2_3[1,1])/cm2_3.sum()\n",
    "rms_margin_2_3 = np.sqrt(np.mean(prob_correct_2_3 - 0.5)**2)\n",
    "print(\"RMS margin for svm with degree 5 is\",rms_margin_2_3)"
   ]
  },
  {
   "cell_type": "code",
   "execution_count": 9,
   "id": "dc1550e4",
   "metadata": {},
   "outputs": [],
   "source": [
    "# svm with kernels rbf and sigmoid"
   ]
  },
  {
   "cell_type": "code",
   "execution_count": 10,
   "id": "1d91bd33",
   "metadata": {},
   "outputs": [
    {
     "name": "stdout",
     "output_type": "stream",
     "text": [
      "misclassification rate in svm for rbf kernel is 0.0176678445229682\n",
      "RMS margin for svm is 0.4823321554770318\n",
      "misclassification rate in svm for sigmoid kernel is 0.8374558303886925\n",
      "RMS margin for svm is is 0.3374558303886926\n"
     ]
    }
   ],
   "source": [
    "rbf_svm = SVC(kernel= \"rbf\", probability= True)\n",
    "rbf_svm.fit(X_train,Y_train)\n",
    "y_pred_rbf = rbf_svm.predict(X_test)\n",
    "print(\"misclassification rate in svm for rbf kernel is\", np.mean(y_pred_rbf!= Y_test))\n",
    "cm3 = confusion_matrix(Y_test, y_pred_rbf)\n",
    "prob_correct_3 = (cm3[0,0]+cm3[1,1])/cm3.sum()\n",
    "rms_margin_3 = np.sqrt(np.mean(prob_correct_3 - 0.5)**2)\n",
    "print(\"RMS margin for svm is\", rms_margin_3)\n",
    "\n",
    "\n",
    "sigmoid_svm = SVC(kernel=\"sigmoid\", probability= True)\n",
    "sigmoid_svm.fit(X_train, Y_train)\n",
    "y_pred_sig = sigmoid_svm.predict(X_test)\n",
    "print(\"misclassification rate in svm for sigmoid kernel is\", np.mean(y_pred_sig!= Y_test))\n",
    "cm4 = confusion_matrix(Y_test, y_pred_sig)\n",
    "prob_correct_4 = (cm4[0,0]+cm4[1,1])/cm4.sum()\n",
    "rms_margin_4 = np.sqrt(np.mean(prob_correct_4 - 0.5)**2)\n",
    "print(\"RMS margin for svm is is\", rms_margin_4)"
   ]
  },
  {
   "cell_type": "markdown",
   "id": "8dc07ede",
   "metadata": {},
   "source": [
    "# 1) e"
   ]
  },
  {
   "cell_type": "code",
   "execution_count": 11,
   "id": "bd2c9bb6",
   "metadata": {},
   "outputs": [
    {
     "name": "stdout",
     "output_type": "stream",
     "text": [
      "max_depth is 3 and misclassification rate in decision tree is 0.0353356890459364\n",
      "max_depth is 4 and misclassification rate in decision tree is 0.024734982332155476\n",
      "max_depth is 5 and misclassification rate in decision tree is 0.05653710247349823\n",
      "max_depth is 6 and misclassification rate in decision tree is 0.04240282685512368\n",
      "max_depth is 7 and misclassification rate in decision tree is 0.04946996466431095\n",
      "max_depth is 8 and misclassification rate in decision tree is 0.045936395759717315\n",
      "max_depth is 9 and misclassification rate in decision tree is 0.045936395759717315\n",
      "max_depth is 10 and misclassification rate in decision tree is 0.053003533568904596\n"
     ]
    },
    {
     "data": {
      "text/plain": [
       "Text(0.5, 1.0, ' Misclassification rates Vs Max depth ')"
      ]
     },
     "execution_count": 11,
     "metadata": {},
     "output_type": "execute_result"
    },
    {
     "data": {
      "image/png": "[encoded data removed]",
      "text/plain": [
       "<Figure size 432x288 with 1 Axes>"
      ]
     },
     "metadata": {
      "needs_background": "light"
     },
     "output_type": "display_data"
    }
   ],
   "source": [
    "# decision tree\n",
    "misclassification_rates = []\n",
    "for i in range(3,11):\n",
    "    DT_classifier = DecisionTreeClassifier(max_depth = i)\n",
    "    DT_classifier.fit(X_train, Y_train)\n",
    "    y_pred_DT = DT_classifier.predict(X_test)\n",
    "    misclassification_rates.append(np.mean(y_pred_DT!= Y_test))\n",
    "    print(\"max_depth is\" ,i , \"and\" ,'misclassification rate in decision tree is',np.mean(y_pred_DT!= Y_test))\n",
    "# visualizing the decision tree with max depth is 5\n",
    "decision_tree = DecisionTreeClassifier(max_depth= 5)\n",
    "decision_tree.fit(X_train,Y_train)\n",
    "graph_data = tree.export_graphviz(decision_tree,out_file=None)\n",
    "graph = graphviz.Source(graph_data)\n",
    "graph\n",
    "#plt.figure(figsize = (5,6))\n",
    "plt.plot(range(3,11),misclassification_rates, color = 'purple', marker = 'd', markersize = 9)\n",
    "plt.ylabel(\" Misclassification rates in decision tree\")\n",
    "plt.xlabel(\" Max depth\")\n",
    "plt.title(\" Misclassification rates Vs Max depth \")"
   ]
  },
  {
   "cell_type": "code",
   "execution_count": null,
   "id": "dc0507cf",
   "metadata": {},
   "outputs": [],
   "source": []
  },
  {
   "cell_type": "markdown",
   "id": "363ee731",
   "metadata": {},
   "source": [
    "# 1)f "
   ]
  },
  {
   "cell_type": "code",
   "execution_count": 12,
   "id": "eeeed97d",
   "metadata": {},
   "outputs": [
    {
     "name": "stdout",
     "output_type": "stream",
     "text": [
      "misclassification rate in adaboost for weak learners = 100 is 0.038869257950530034\n",
      "misclassification rate in adaboost for weak learners = 200 is 0.038869257950530034\n",
      "misclassification rate in adaboost for weak learners = 300 is 0.04946996466431095\n",
      "misclassification rate in adaboost for weak learners = 400 is 0.038869257950530034\n",
      "misclassification rate in adaboost for weak learners = 500 is 0.04240282685512368\n"
     ]
    }
   ],
   "source": [
    "# adaboost classifier\n",
    "ada_1 = AdaBoostClassifier(n_estimators  = 100)\n",
    "ada_2 = AdaBoostClassifier(n_estimators  = 200)\n",
    "ada_3 = AdaBoostClassifier(n_estimators  = 300)\n",
    "ada_4 = AdaBoostClassifier(n_estimators  = 400)\n",
    "ada_5 = AdaBoostClassifier(n_estimators  = 500)\n",
    "ada_1.fit(X_train,Y_train)\n",
    "ada_2.fit(X_train,Y_train)\n",
    "ada_3.fit(X_train,Y_train)\n",
    "ada_4.fit(X_train,Y_train)\n",
    "ada_5.fit(X_train,Y_train)\n",
    "y_pred_ada1 = ada_1.predict(X_test)\n",
    "y_pred_ada2 = ada_2.predict(X_test)\n",
    "y_pred_ada3 = ada_3.predict(X_test)\n",
    "y_pred_ada4 = ada_4.predict(X_test)\n",
    "y_pred_ada5 = ada_5.predict(X_test)\n",
    "print(\"misclassification rate in adaboost for weak learners = 100 is\", np.mean(y_pred_ada1!= Y_test))\n",
    "print(\"misclassification rate in adaboost for weak learners = 200 is\", np.mean(y_pred_ada2!= Y_test))\n",
    "print(\"misclassification rate in adaboost for weak learners = 300 is\", np.mean(y_pred_ada3!= Y_test))\n",
    "print(\"misclassification rate in adaboost for weak learners = 400 is\", np.mean(y_pred_ada4!= Y_test))\n",
    "print(\"misclassification rate in adaboost for weak learners = 500 is\", np.mean(y_pred_ada5!= Y_test))\n"
   ]
  },
  {
   "cell_type": "code",
   "execution_count": 13,
   "id": "1d485b99",
   "metadata": {},
   "outputs": [
    {
     "name": "stdout",
     "output_type": "stream",
     "text": [
      "misclassification rate in xgboost for weak learners = 100 is 0.02120141342756184\n",
      "misclassification rate in xgboost for weak learners = 200 is 0.02120141342756184\n",
      "misclassification rate in xgboost for weak learners = 300 is 0.02120141342756184\n",
      "misclassification rate in xgboost for weak learners = 400 is 0.02120141342756184\n",
      "misclassification rate in xgboost for weak learners = 500 is 0.02120141342756184\n"
     ]
    }
   ],
   "source": [
    "# xgboost classifer or extreme gradient boosting\n",
    "xg_boost1 = XGBClassifier(n_estimators= 100)\n",
    "xg_boost2 = XGBClassifier(n_estimators= 200)\n",
    "xg_boost3 = XGBClassifier(n_estimators= 300)\n",
    "xg_boost4 = XGBClassifier(n_estimators= 400)\n",
    "xg_boost5 = XGBClassifier(n_estimators= 500)\n",
    "xg_boost1.fit(X_train,Y_train)\n",
    "xg_boost2.fit(X_train,Y_train)\n",
    "xg_boost3.fit(X_train,Y_train)\n",
    "xg_boost4.fit(X_train,Y_train)\n",
    "xg_boost5.fit(X_train,Y_train)\n",
    "y_pred_xgboost1 = xg_boost1.predict(X_test)\n",
    "y_pred_xgboost2 = xg_boost2.predict(X_test)\n",
    "y_pred_xgboost3 = xg_boost3.predict(X_test)\n",
    "y_pred_xgboost4 = xg_boost4.predict(X_test)\n",
    "y_pred_xgboost5 = xg_boost5.predict(X_test)\n",
    "print(\"misclassification rate in xgboost for weak learners = 100 is\", np.mean(y_pred_xgboost1!= Y_test))\n",
    "print(\"misclassification rate in xgboost for weak learners = 200 is\", np.mean(y_pred_xgboost2!= Y_test))\n",
    "print(\"misclassification rate in xgboost for weak learners = 300 is\", np.mean(y_pred_xgboost3!= Y_test))\n",
    "print(\"misclassification rate in xgboost for weak learners = 400 is\", np.mean(y_pred_xgboost4!= Y_test))\n",
    "print(\"misclassification rate in xgboost for weak learners = 500 is\", np.mean(y_pred_xgboost5!= Y_test))"
   ]
  },
  {
   "cell_type": "code",
   "execution_count": 14,
   "id": "8fbf9907",
   "metadata": {},
   "outputs": [
    {
     "name": "stdout",
     "output_type": "stream",
     "text": [
      "misclassification rate in Random forest for weak learners = 100 is 0.01060070671378092\n",
      "misclassification rate in Random forest for weak learners = 200 is 0.0176678445229682\n",
      "misclassification rate in Random forest for weak learners = 300 is 0.01060070671378092\n",
      "misclassification rate in Random forest for weak learners = 400 is 0.0176678445229682\n",
      "misclassification rate in Random forest for weak learners = 500 is 0.01060070671378092\n"
     ]
    }
   ],
   "source": [
    "# random forest classifer\n",
    "rfc1 = RandomForestClassifier(n_estimators= 100)\n",
    "rfc2 = RandomForestClassifier(n_estimators= 200, random_state=40)\n",
    "rfc3 = RandomForestClassifier(n_estimators= 300)\n",
    "rfc4 = RandomForestClassifier(n_estimators= 400)\n",
    "rfc5 = RandomForestClassifier(n_estimators= 500)\n",
    "rfc1.fit(X_train,Y_train)\n",
    "rfc2.fit(X_train,Y_train)\n",
    "rfc3.fit(X_train,Y_train)\n",
    "rfc4.fit(X_train,Y_train)\n",
    "rfc5.fit(X_train,Y_train)\n",
    "y_pred_rfc1 = rfc1.predict(X_test)\n",
    "y_pred_rfc2 = rfc2.predict(X_test)\n",
    "y_pred_rfc3 = rfc3.predict(X_test)\n",
    "y_pred_rfc4 = rfc4.predict(X_test)\n",
    "y_pred_rfc5 = rfc5.predict(X_test)\n",
    "print(\"misclassification rate in Random forest for weak learners = 100 is\", np.mean(y_pred_rfc1!= Y_test))\n",
    "print(\"misclassification rate in Random forest for weak learners = 200 is\", np.mean(y_pred_rfc2!= Y_test))\n",
    "print(\"misclassification rate in Random forest for weak learners = 300 is\", np.mean(y_pred_rfc3!= Y_test))\n",
    "print(\"misclassification rate in Random forest for weak learners = 400 is\", np.mean(y_pred_rfc4!= Y_test))\n",
    "print(\"misclassification rate in Random forest for weak learners = 500 is\", np.mean(y_pred_rfc5!= Y_test))"
   ]
  },
  {
   "cell_type": "code",
   "execution_count": null,
   "id": "dc932eb9",
   "metadata": {},
   "outputs": [],
   "source": []
  },
  {
   "cell_type": "markdown",
   "id": "4bab91a0",
   "metadata": {},
   "source": [
    "# 1) g"
   ]
  },
  {
   "cell_type": "markdown",
   "id": "2b2923e7",
   "metadata": {},
   "source": [
    " Comparing the above mentioned classification algorithms with the weighted cost. So, before comparing with the misclassification rates, weighted cost for all the above mentioned classifiers are evaluated.\n",
    "\n"
   ]
  },
  {
   "cell_type": "code",
   "execution_count": 15,
   "id": "e381db9b",
   "metadata": {},
   "outputs": [
    {
     "name": "stdout",
     "output_type": "stream",
     "text": [
      "weighted  cost for logistic regression is 0.014748409485251591\n"
     ]
    }
   ],
   "source": [
    "# logistic regression.\n",
    "cost_1 = cm[0,1]\n",
    "cost_100 = cm[1,0]*100\n",
    "cost_total = (cost_1 + cost_100)/6916   # maximum cost is 6916\n",
    "cost_total\n",
    "print('weighted  cost for logistic regression is', cost_total)"
   ]
  },
  {
   "cell_type": "code",
   "execution_count": 16,
   "id": "fc9dd1e0",
   "metadata": {},
   "outputs": [
    {
     "name": "stdout",
     "output_type": "stream",
     "text": [
      "weighted cost for the KNN classifier from 1 to 10 neighbors are  [0.015037593984962405, 0.08704453441295547, 0.000578368999421631, 0.029352226720647773, 0.015037593984962405, 0.014748409485251591, 0.014893001735106999, 0.014748409485251591, 0.014748409485251591, 0.014748409485251591]\n"
     ]
    }
   ],
   "source": [
    "# knn classifier\n",
    "knn_cost_overall = []\n",
    "for i in range(1,11):\n",
    "    knn_c = KNeighborsClassifier(n_neighbors=i)\n",
    "    knn_c.fit(X_train,Y_train)\n",
    "    y_pred_kncc_i = knn_c.predict(X_test)\n",
    "    cm_knn = confusion_matrix(Y_test,y_pred_kncc_i)\n",
    "    knn_cost_1 = cm_knn[0,1]\n",
    "    knn_cost_100 = cm_knn[1,0]*100\n",
    "    knn_cost_total = (knn_cost_1 + knn_cost_100)/6916   # maximum cost is 6916\n",
    "    knn_cost_overall.append(knn_cost_total)\n",
    "print(\"weighted cost for the KNN classifier from 1 to 10 neighbors are \",knn_cost_overall)"
   ]
  },
  {
   "cell_type": "code",
   "execution_count": 17,
   "id": "9c131dc1",
   "metadata": {},
   "outputs": [
    {
     "ename": "NameError",
     "evalue": "name 'cm_1' is not defined",
     "output_type": "error",
     "traceback": [
      "\u001b[1;31m---------------------------------------------------------------------------\u001b[0m",
      "\u001b[1;31mNameError\u001b[0m                                 Traceback (most recent call last)",
      "Input \u001b[1;32mIn [17]\u001b[0m, in \u001b[0;36m<cell line: 2>\u001b[1;34m()\u001b[0m\n\u001b[0;32m      1\u001b[0m \u001b[38;5;66;03m# linear discriminant analysis\u001b[39;00m\n\u001b[1;32m----> 2\u001b[0m LDA_cost_1 \u001b[38;5;241m=\u001b[39m \u001b[43mcm_1\u001b[49m[\u001b[38;5;241m0\u001b[39m,\u001b[38;5;241m1\u001b[39m]\n\u001b[0;32m      3\u001b[0m LDA_cost_100 \u001b[38;5;241m=\u001b[39m cm_1[\u001b[38;5;241m1\u001b[39m,\u001b[38;5;241m0\u001b[39m]\u001b[38;5;241m*\u001b[39m\u001b[38;5;241m100\u001b[39m\n\u001b[0;32m      4\u001b[0m LDA_cost_total \u001b[38;5;241m=\u001b[39m (LDA_cost_1 \u001b[38;5;241m+\u001b[39m LDA_cost_100)\u001b[38;5;241m/\u001b[39m\u001b[38;5;241m6916\u001b[39m    \u001b[38;5;66;03m# maximum cost is 6916\u001b[39;00m\n",
      "\u001b[1;31mNameError\u001b[0m: name 'cm_1' is not defined"
     ]
    }
   ],
   "source": [
    "# linear discriminant analysis\n",
    "LDA_cost_1 = cm_1[0,1]\n",
    "LDA_cost_100 = cm_1[1,0]*100\n",
    "LDA_cost_total = (LDA_cost_1 + LDA_cost_100)/6916    # maximum cost is 6916\n",
    "LDA_cost_total\n",
    "print(\"weighted cost for the linear discriminant analysis\",LDA_cost_total)"
   ]
  },
  {
   "cell_type": "code",
   "execution_count": null,
   "id": "8329d309",
   "metadata": {},
   "outputs": [],
   "source": [
    "# support vector machine\n",
    "# weighted cost for linear kernel in SVM\n",
    "linear_cost_1 = cm1[0,1]\n",
    "linear_cost_100 = cm1[1,0]*100\n",
    "linear_cost_total = (linear_cost_1 + linear_cost_100)/ 6916   # maximum cost is 6916\n",
    "linear_cost_total\n",
    "print(\"weighted cost for SVM with linear lernel is\", linear_cost_total)\n",
    "#for polynomial kernel\n",
    "poly_cost_1 = cm2[0,1]\n",
    "poly_cost_100 = cm2[1,0]*100\n",
    "poly_cost_total = (poly_cost_1+ poly_cost_100)/6916\n",
    "print(\"weighted cost of SVM for polynomial kernel with degree 2 is\", poly_cost_total)\n",
    "poly1_cost_1 = cm2_1[0,1]\n",
    "poly1_cost_100 = cm2_1[1,0]*100\n",
    "poly1_cost_total = (poly1_cost_1 + poly1_cost_100)/6916\n",
    "print(\"weighted cost of SVM for polynomial kernel with degree 3 is\", poly1_cost_total)\n",
    "poly2_cost_1 = cm2_2[0,1]\n",
    "poly2_cost_100 = cm2_2[1,0]*100\n",
    "poly2_cost_total = (poly2_cost_1 + poly2_cost_100)/6916\n",
    "print(\"weighted cost of SVM for polynomial kernel with degree 4 is\", poly2_cost_total)\n",
    "poly3_cost_1 = cm2_3[0,1]\n",
    "poly3_cost_100 = cm2_3[1,0]*100\n",
    "poly3_cost_total = (poly3_cost_1 + poly3_cost_100)/6916\n",
    "print(\"wieighted cost of SVM for polynomial kernel with degree 5 is\", poly3_cost_total)\n",
    "# for rbf kernel\n",
    "rbf_cost_1 = cm3[0,1]\n",
    "rbf_cost_100 = cm3[1,0]*100\n",
    "rbf_cost_total = (rbf_cost_1 + rbf_cost_100)/6916\n",
    "print(\"weighted cost for SVM with rbf kernel is\", rbf_cost_total)\n",
    "# for sigmoid kernel\n",
    "sig_cost_1 = cm4[0,1]\n",
    "sig_cost_100 = cm4[1,0]*100\n",
    "sig_cost_total = (sig_cost_1 + sig_cost_100)/6916\n",
    "print(\"weighted cost for SVM with sigmoid kernel is\",sig_cost_total)"
   ]
  },
  {
   "cell_type": "code",
   "execution_count": null,
   "id": "2a2a37f7",
   "metadata": {},
   "outputs": [],
   "source": [
    "# decision tree \n",
    "DT_cost_overall = []\n",
    "for i in range(3,11):\n",
    "    DT_classifier = DecisionTreeClassifier(max_depth = i)\n",
    "    DT_classifier.fit(X_train, Y_train)\n",
    "    y_pred_DT = DT_classifier.predict(X_test)\n",
    "    cm_DT = confusion_matrix(Y_test,y_pred_DT)\n",
    "    DT_cost_1 = cm_DT[0,1]\n",
    "    DT_cost_100 = cm_DT[1,0]*100\n",
    "    DT_cost_total = (DT_cost_1 + DT_cost_100)/6916   # maximum cost is 6916\n",
    "    DT_cost_overall.append(DT_cost_total)\n",
    "print(\"weighted cost for decision tree with max depth from 3 to 10 are\", DT_cost_overall)\n"
   ]
  },
  {
   "cell_type": "code",
   "execution_count": null,
   "id": "4687842c",
   "metadata": {},
   "outputs": [],
   "source": [
    "# Ada boost\n",
    "ada_cost_overall = []\n",
    "for i in range(100,600,100):\n",
    "    ada_classifier = AdaBoostClassifier(n_estimators= i)\n",
    "    ada_classifier.fit(X_train, Y_train)\n",
    "    y_pred_ada = ada_classifier.predict(X_test)\n",
    "    cm_ada = confusion_matrix(Y_test,y_pred_ada)\n",
    "    ada_cost_1 = cm_ada[0,1]\n",
    "    ada_cost_100 = cm_ada[1,0]*100\n",
    "    ada_cost_total = (ada_cost_1 + ada_cost_100)/6916  # maximum cost is 6916\n",
    "    ada_cost_overall.append(ada_cost_total)\n",
    "print(\"weighted cost for ada boost classifer with weak learners 100, 200, 300, 400, 500 are\", ada_cost_overall)"
   ]
  },
  {
   "cell_type": "code",
   "execution_count": null,
   "id": "8c37649f",
   "metadata": {},
   "outputs": [],
   "source": [
    "# Xgboost\n",
    "xgb_cost_overall = []\n",
    "for i in range(100, 600, 100):\n",
    "    xgb_classifier = XGBClassifier(n_estimators = i)\n",
    "    xgb_classifier.fit(X_train, Y_train)\n",
    "    y_pred_xgb = xgb_classifier.predict(X_test)\n",
    "    cm_xgb = confusion_matrix(Y_test,y_pred_xgb)\n",
    "    xgb_cost_1 = cm_xgb[0,1]\n",
    "    xgb_cost_100 = cm_xgb[1,0]*100\n",
    "    xgb_cost_total = (xgb_cost_1 + xgb_cost_100)/6916  # maximum cost is 6916  \n",
    "    xgb_cost_overall.append(xgb_cost_total)\n",
    "print(\"weighted cost for the xgboost classifier with weak learners 100, 200, 300, 400, 500 are\", xgb_cost_overall)"
   ]
  },
  {
   "cell_type": "code",
   "execution_count": null,
   "id": "68327cdd",
   "metadata": {},
   "outputs": [],
   "source": [
    "# Random forest classifier\n",
    "rfc_cost_overall = []\n",
    "for i in range(100,600, 100):\n",
    "    rfc_classifier = RandomForestClassifier(n_estimators= i)\n",
    "    rfc_classifier.fit(X_train, Y_train)\n",
    "    y_pred_rfc = rfc_classifier.predict(X_test)\n",
    "    cm_rfc = confusion_matrix(Y_test, y_pred_rfc)\n",
    "    rfc_cost_1 = cm_rfc[0,1]\n",
    "    rfc_cost_100 = cm_rfc[1,0]*100\n",
    "    rfc_cost_total = (rfc_cost_1 + rfc_cost_100)/6916     # maximum cost is 6916\n",
    "    rfc_cost_overall.append(rfc_cost_total)\n",
    "print(\"weighted cost for random forest with weak learners 100, 200, 300, 400, 500 are\", rfc_cost_overall)"
   ]
  },
  {
   "cell_type": "markdown",
   "id": "3b6e636f",
   "metadata": {},
   "source": [
    "conclusion :\n",
    "\n",
    "In order to be the best classifier algorithm, here the misclassification rate and weighted cost must be low. Otherwise, we can't say that the algorithms are good enough to consider. So,\n",
    "\n",
    "1) Having considered all the above mentioned classification algorithms, I can clearly say the best classification algorithm in terms of misclassification rate is logistic regression and also KNN with a few neighbors but not with all neighbors.\n",
    "\n",
    "2) Next, In terms of weighted cost the best classification algorithms is KNN (only few neighbors) and even the logistic regression is also good as it has minimum weighted cost.\n"
   ]
  },
  {
   "cell_type": "code",
   "execution_count": null,
   "id": "34dba578",
   "metadata": {},
   "outputs": [],
   "source": []
  },
  {
   "cell_type": "code",
   "execution_count": null,
   "id": "cb6a59da",
   "metadata": {},
   "outputs": [],
   "source": []
  }
 ],
 "metadata": {
  "kernelspec": {
   "display_name": "Python 3 (ipykernel)",
   "language": "python",
   "name": "python3"
  },
  "language_info": {
   "codemirror_mode": {
    "name": "ipython",
    "version": 3
   },
   "file_extension": ".py",
   "mimetype": "text/x-python",
   "name": "python",
   "nbconvert_exporter": "python",
   "pygments_lexer": "ipython3",
   "version": "3.9.12"
  }
 },
 "nbformat": 4,
 "nbformat_minor": 5
}
